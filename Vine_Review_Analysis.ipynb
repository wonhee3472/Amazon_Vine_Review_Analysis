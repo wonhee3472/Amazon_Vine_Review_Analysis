{
  "cells": [
    {
      "cell_type": "code",
      "execution_count": null,
      "metadata": {
        "colab": {
          "base_uri": "https://localhost:8080/"
        },
        "id": "V58rxea0HqSa",
        "outputId": "f1df282b-ed76-4200-bb36-dd11c5c3834a"
      },
      "outputs": [
        {
          "output_type": "stream",
          "name": "stdout",
          "text": [
            "\r0% [Working]\r            \rHit:1 http://archive.ubuntu.com/ubuntu bionic InRelease\n",
            "\r0% [Waiting for headers] [Connecting to security.ubuntu.com (91.189.88.152)] [C\r                                                                               \rGet:2 http://archive.ubuntu.com/ubuntu bionic-updates InRelease [88.7 kB]\n",
            "Get:3 https://cloud.r-project.org/bin/linux/ubuntu bionic-cran40/ InRelease [3,626 B]\n",
            "Ign:4 https://developer.download.nvidia.com/compute/cuda/repos/ubuntu1804/x86_64  InRelease\n",
            "Ign:5 https://developer.download.nvidia.com/compute/machine-learning/repos/ubuntu1804/x86_64  InRelease\n",
            "Get:6 http://ppa.launchpad.net/c2d4u.team/c2d4u4.0+/ubuntu bionic InRelease [15.9 kB]\n",
            "Get:7 https://developer.download.nvidia.com/compute/cuda/repos/ubuntu1804/x86_64  Release [696 B]\n",
            "Hit:8 https://developer.download.nvidia.com/compute/machine-learning/repos/ubuntu1804/x86_64  Release\n",
            "Get:9 https://developer.download.nvidia.com/compute/cuda/repos/ubuntu1804/x86_64  Release.gpg [836 B]\n",
            "Get:10 http://security.ubuntu.com/ubuntu bionic-security InRelease [88.7 kB]\n",
            "Get:11 http://archive.ubuntu.com/ubuntu bionic-backports InRelease [74.6 kB]\n",
            "Hit:12 http://ppa.launchpad.net/cran/libgit2/ubuntu bionic InRelease\n",
            "Get:13 http://ppa.launchpad.net/deadsnakes/ppa/ubuntu bionic InRelease [15.9 kB]\n",
            "Get:14 https://cloud.r-project.org/bin/linux/ubuntu bionic-cran40/ Packages [80.4 kB]\n",
            "Hit:15 http://ppa.launchpad.net/graphics-drivers/ppa/ubuntu bionic InRelease\n",
            "Get:16 http://archive.ubuntu.com/ubuntu bionic-updates/universe amd64 Packages [2,257 kB]\n",
            "Get:17 http://archive.ubuntu.com/ubuntu bionic-updates/main amd64 Packages [3,067 kB]\n",
            "Get:19 https://developer.download.nvidia.com/compute/cuda/repos/ubuntu1804/x86_64  Packages [931 kB]\n",
            "Get:20 http://ppa.launchpad.net/c2d4u.team/c2d4u4.0+/ubuntu bionic/main Sources [1,827 kB]\n",
            "Get:21 http://security.ubuntu.com/ubuntu bionic-security/main amd64 Packages [2,628 kB]\n",
            "Get:22 http://security.ubuntu.com/ubuntu bionic-security/universe amd64 Packages [1,479 kB]\n",
            "Get:23 http://ppa.launchpad.net/c2d4u.team/c2d4u4.0+/ubuntu bionic/main amd64 Packages [936 kB]\n",
            "Get:24 http://ppa.launchpad.net/deadsnakes/ppa/ubuntu bionic/main amd64 Packages [45.2 kB]\n",
            "Fetched 13.5 MB in 7s (1,954 kB/s)\n",
            "Reading package lists... Done\n"
          ]
        }
      ],
      "source": [
        "import os\n",
        "# Find the latest version of spark 3.0 from http://www.apache.org/dist/spark/ and enter as the spark version\n",
        "# For example:\n",
        "# spark_version = 'spark-3.0.3'\n",
        "spark_version = 'spark-3.0.3'\n",
        "os.environ['SPARK_VERSION']=spark_version\n",
        "\n",
        "# Install Spark and Java\n",
        "!apt-get update\n",
        "!apt-get install openjdk-11-jdk-headless -qq > /dev/null\n",
        "!wget -q http://www.apache.org/dist/spark/$SPARK_VERSION/$SPARK_VERSION-bin-hadoop2.7.tgz\n",
        "!tar xf $SPARK_VERSION-bin-hadoop2.7.tgz\n",
        "!pip install -q findspark\n",
        "\n",
        "# Set Environment Variables\n",
        "import os\n",
        "os.environ[\"JAVA_HOME\"] = \"/usr/lib/jvm/java-11-openjdk-amd64\"\n",
        "os.environ[\"SPARK_HOME\"] = f\"/content/{spark_version}-bin-hadoop2.7\"\n",
        "\n",
        "# Start a SparkSession\n",
        "import findspark\n",
        "findspark.init()"
      ]
    },
    {
      "cell_type": "code",
      "source": [
        "!pip install pyspark"
      ],
      "metadata": {
        "colab": {
          "base_uri": "https://localhost:8080/"
        },
        "id": "geltqkkAM49I",
        "outputId": "56e65a69-19fe-4b50-bdb5-e447d4f77abb"
      },
      "execution_count": null,
      "outputs": [
        {
          "output_type": "stream",
          "name": "stdout",
          "text": [
            "Collecting pyspark\n",
            "  Downloading pyspark-3.2.1.tar.gz (281.4 MB)\n",
            "\u001b[K     |████████████████████████████████| 281.4 MB 36 kB/s \n",
            "\u001b[?25hCollecting py4j==0.10.9.3\n",
            "  Downloading py4j-0.10.9.3-py2.py3-none-any.whl (198 kB)\n",
            "\u001b[K     |████████████████████████████████| 198 kB 49.5 MB/s \n",
            "\u001b[?25hBuilding wheels for collected packages: pyspark\n",
            "  Building wheel for pyspark (setup.py) ... \u001b[?25l\u001b[?25hdone\n",
            "  Created wheel for pyspark: filename=pyspark-3.2.1-py2.py3-none-any.whl size=281853642 sha256=a0b7ca29f8b4efbd215fb29d9235d4da171c0db37c8a3b6c4588cc10f7081a16\n",
            "  Stored in directory: /root/.cache/pip/wheels/9f/f5/07/7cd8017084dce4e93e84e92efd1e1d5334db05f2e83bcef74f\n",
            "Successfully built pyspark\n",
            "Installing collected packages: py4j, pyspark\n",
            "Successfully installed py4j-0.10.9.3 pyspark-3.2.1\n"
          ]
        }
      ]
    },
    {
      "cell_type": "code",
      "execution_count": null,
      "metadata": {
        "colab": {
          "base_uri": "https://localhost:8080/"
        },
        "id": "_xKwTpATHqSe",
        "outputId": "35daa55e-d775-47f2-a59c-416f98018e81"
      },
      "outputs": [
        {
          "output_type": "stream",
          "name": "stdout",
          "text": [
            "--2022-03-19 03:24:32--  https://jdbc.postgresql.org/download/postgresql-42.2.16.jar\n",
            "Resolving jdbc.postgresql.org (jdbc.postgresql.org)... 72.32.157.228, 2001:4800:3e1:1::228\n",
            "Connecting to jdbc.postgresql.org (jdbc.postgresql.org)|72.32.157.228|:443... connected.\n",
            "HTTP request sent, awaiting response... 200 OK\n",
            "Length: 1002883 (979K) [application/java-archive]\n",
            "Saving to: ‘postgresql-42.2.16.jar’\n",
            "\n",
            "postgresql-42.2.16. 100%[===================>] 979.38K  --.-KB/s    in 0.09s   \n",
            "\n",
            "2022-03-19 03:24:32 (11.2 MB/s) - ‘postgresql-42.2.16.jar’ saved [1002883/1002883]\n",
            "\n"
          ]
        }
      ],
      "source": [
        "# Download the Postgres driver that will allow Spark to interact with Postgres.\n",
        "!wget https://jdbc.postgresql.org/download/postgresql-42.2.16.jar"
      ]
    },
    {
      "cell_type": "code",
      "execution_count": null,
      "metadata": {
        "id": "MMqDAjVS0KN9"
      },
      "outputs": [],
      "source": [
        "from pyspark.sql import SparkSession\n",
        "spark = SparkSession.builder.appName(\"vine-review-analysis\").config(\"spark.driver.extraClassPath\",\"/content/postgresql-42.2.16.jar\").getOrCreate()"
      ]
    },
    {
      "cell_type": "markdown",
      "metadata": {
        "id": "cyBsySGuY-9V"
      },
      "source": [
        "### Load Amazon Data into Spark DataFrame"
      ]
    },
    {
      "cell_type": "code",
      "execution_count": null,
      "metadata": {
        "id": "CtCmBhQJY-9Z",
        "colab": {
          "base_uri": "https://localhost:8080/"
        },
        "outputId": "620040cd-68a1-45f8-b46e-20e2dd34265c"
      },
      "outputs": [
        {
          "output_type": "stream",
          "name": "stdout",
          "text": [
            "+-----------+-----------+--------------+----------+--------------+--------------------+----------------+-----------+-------------+-----------+----+-----------------+--------------------+--------------------+-----------+\n",
            "|marketplace|customer_id|     review_id|product_id|product_parent|       product_title|product_category|star_rating|helpful_votes|total_votes|vine|verified_purchase|     review_headline|         review_body|review_date|\n",
            "+-----------+-----------+--------------+----------+--------------+--------------------+----------------+-----------+-------------+-----------+----+-----------------+--------------------+--------------------+-----------+\n",
            "|         US|   24509695|R3VR960AHLFKDV|B004HB5E0E|     488241329|Shoal Creek Compu...|       Furniture|          4|            0|          0|   N|                Y|... desk is very ...|This desk is very...| 2015-08-31|\n",
            "|         US|   34731776|R16LGVMFKIUT0G|B0042TNMMS|     205864445|Dorel Home Produc...|       Furniture|          5|            0|          0|   N|                Y|          Five Stars|          Great item| 2015-08-31|\n",
            "|         US|    1272331|R1AIMEEPYHMOE4|B0030MPBZ4|     124663823|Bathroom Vanity T...|       Furniture|          5|            1|          1|   N|                Y|          Five Stars|Perfect fit for m...| 2015-08-31|\n",
            "|         US|   45284262|R1892CCSZWZ9SR|B005G02ESA|     382367578|Sleep Master Ulti...|       Furniture|          3|            0|          0|   N|                Y|         Good enough|We use this on a ...| 2015-08-31|\n",
            "|         US|   30003523|R285P679YWVKD1|B005JS8AUA|     309497463|1 1/4\" GashGuards...|       Furniture|          3|            0|          0|   N|                N|Gash Gards for da...|The product is fi...| 2015-08-31|\n",
            "|         US|   18311821| RLB33HJBXHZHU|B00AVUQQGQ|     574537906|Serta Bonded Leat...|       Furniture|          5|            0|          0|   N|                Y|          Five Stars|Love this product...| 2015-08-31|\n",
            "|         US|   42943632|R1VGTZ94DBAD6A|B00CFY20GQ|     407473883|Prepac Shoe Stora...|       Furniture|          5|            2|          2|   N|                Y|   I love this bench|I love this bench...| 2015-08-31|\n",
            "|         US|   43157304|R168KF82ICSOHD|B00FKC48QA|     435120460|HomCom PU Leather...|       Furniture|          5|            0|          0|   N|                Y|Great storage cap...|Have had this for...| 2015-08-31|\n",
            "|         US|   51918480|R20DIYIJ0OCMOG|B00N9IAL9K|     356495985|  Folding Step Stool|       Furniture|          5|            0|          0|   N|                Y|This is the best ...|This is the best ...| 2015-08-31|\n",
            "|         US|   14522766| RD46RNVOHNZSC|B001T4XU1C|     243050228|Ace Bayou Adult V...|       Furniture|          5|            0|          0|   N|                Y|    great for price!|    my son loves it!| 2015-08-31|\n",
            "|         US|   43054112|R2JDOCETTM3AXS|B002HRFLBC|      93574483|4D Concepts Audio...|       Furniture|          5|            0|          0|   N|                Y|          Five Stars|       Great product| 2015-08-31|\n",
            "|         US|   26622950|R33YMW36IDZ6LE|B006MISZOC|     941823468|Zinus SC-SBBK-14N...|       Furniture|          5|            0|          0|   N|                Y|             perfect|bought with sleep...| 2015-08-31|\n",
            "|         US|   17988940|R30ZGGUHZ04C1S|B008BMGABC|     460567746|Poundex Marble Di...|       Furniture|          5|            1|          1|   N|                Y|   Very satisfied!!!|Delivery was on t...| 2015-08-31|\n",
            "|         US|   18444952| RS2EZU76IK2BT|B00CO2VH5Y|     829613894|Safavieh Lyndhurs...|       Furniture|          5|            0|          0|   N|                Y|soft and great fo...|Exactly as pictur...| 2015-08-31|\n",
            "|         US|   16937084|R1GJC1BP028XO9|B00LI4RJQ0|     816478187|Sauder Boone Moun...|       Furniture|          5|            2|          3|   N|                Y|        Great table.|Beautiful table. ...| 2015-08-31|\n",
            "|         US|   23665632|R2VKJPGXXEK5GP|B0046EC1D0|     358594389|Winsome Wood Brea...|       Furniture|          1|            0|          0|   N|                Y|Not what I expect...|I have cleaned up...| 2015-08-31|\n",
            "|         US|    4110125|R17KS83G3KLT97|B00DQQPL36|     312571325|HODEDAH IMPORT Me...|       Furniture|          3|            0|          0|   N|                Y|         Three Stars|First one came in...| 2015-08-31|\n",
            "|         US|     107621|R3PQL8SR4NEHWL|B003X7RWB2|     402665054|Flash Furniture H...|       Furniture|          4|            0|          0|   N|                Y|          Four Stars|Good deal to get ...| 2015-08-31|\n",
            "|         US|    2415090|R2F5WW7WNO5RRG|B001TJYPJ8|     854989315|Sleep Revolution ...|       Furniture|          5|            0|          0|   N|                Y|          Five Stars|Comfortable and e...| 2015-08-31|\n",
            "|         US|   48285966|R3UDJKVWQCFIC9|B000TMHX9A|     814079288|Flash Furniture V...|       Furniture|          5|            0|          0|   N|                Y|Very comfortable....|As advertised. Ve...| 2015-08-31|\n",
            "+-----------+-----------+--------------+----------+--------------+--------------------+----------------+-----------+-------------+-----------+----+-----------------+--------------------+--------------------+-----------+\n",
            "only showing top 20 rows\n",
            "\n"
          ]
        }
      ],
      "source": [
        "from pyspark import SparkFiles\n",
        "url = \"https://s3.amazonaws.com/amazon-reviews-pds/tsv/amazon_reviews_us_Furniture_v1_00.tsv.gz\"\n",
        "spark.sparkContext.addFile(url)\n",
        "df = spark.read.option(\"encoding\", \"UTF-8\").csv(SparkFiles.get(\"amazon_reviews_us_Furniture_v1_00.tsv.gz\"), sep=\"\\t\", header=True, inferSchema=True)\n",
        "df.show()"
      ]
    },
    {
      "cell_type": "markdown",
      "metadata": {
        "id": "2yUSe55VY-9t"
      },
      "source": [
        "### Filter the data and create a new DataFrame or table to retrieve all the rows where the total_votes count is equal to or greater than 20 to pick reviews that are more likely to be helpful and to avoid having division by zero errors later on."
      ]
    },
    {
      "cell_type": "code",
      "execution_count": null,
      "metadata": {
        "id": "C8REmY1aY-9u",
        "colab": {
          "base_uri": "https://localhost:8080/"
        },
        "outputId": "72c78932-5726-4efc-de9f-13fcf8da0ac4"
      },
      "outputs": [
        {
          "output_type": "stream",
          "name": "stdout",
          "text": [
            "+-----------+-----------+--------------+----------+--------------+--------------------+----------------+-----------+-------------+-----------+----+-----------------+--------------------+--------------------+-----------+\n",
            "|marketplace|customer_id|     review_id|product_id|product_parent|       product_title|product_category|star_rating|helpful_votes|total_votes|vine|verified_purchase|     review_headline|         review_body|review_date|\n",
            "+-----------+-----------+--------------+----------+--------------+--------------------+----------------+-----------+-------------+-----------+----+-----------------+--------------------+--------------------+-----------+\n",
            "|         US|   41681546| RL8D0KJ0J9L0O|B00BWC1X3S|     328960153|Zinus 14 Inch Eli...|       Furniture|          5|          152|        165|   N|                Y|A solid VICTORY f...|I've been looking...| 2015-08-31|\n",
            "|         US|   16806846|R1BEINAIQFBRJC|B007I81A60|      68465765|8\" Night Therapy ...|       Furniture|          5|           21|         23|   N|                Y|An Engineering Su...|A full size mattr...| 2015-08-31|\n",
            "|         US|   17820936|R2L59KIJH302P9|B007QULII0|     812343799|LexMod Stencil Di...|       Furniture|          4|           26|         26|   N|                Y|     Love this chair|Love this chair, ...| 2015-08-31|\n",
            "|         US|   50476494| RR99CPG695T0I|B013L4ZWWW|     124365349|Arctic Dreams 10\"...|       Furniture|          5|          215|        248|   N|                N| QUALITY* SLEEP!!!!!|I decided to get ...| 2015-08-31|\n",
            "|         US|   21846903|R1XQNKKUPCMWVO|B00IPN64CC|     867520220|Upholstered Platf...|       Furniture|          5|           43|         44|   N|                Y|Black Tufted Desi...|I have to admit t...| 2015-08-31|\n",
            "|         US|   36021042|R3JUXVCT1NSK2A|B003PSNAI8|     219454481|Fashion Bed Group...|       Furniture|          3|           25|         26|   N|                Y|Works but has odd...|Fully assembled i...| 2015-08-31|\n",
            "|         US|    2067832|R3GNSIFV1J2Y2B|B008RKOL9G|     589861187|Big Joe Media Lou...|       Furniture|          1|           15|         60|   N|                N|   Very disappointed|The chair itself ...| 2015-08-31|\n",
            "|         US|   15624624| RTCRZARYY4LXX|B00E97HPLW|     132456290|Flash Furniture M...|       Furniture|          5|           52|         54|   N|                Y|comfortable/easy ...|Everything I expe...| 2015-08-31|\n",
            "|         US|   13214979|R3OFB4P7Y8WR27|B00QBZ25R4|     637686095|Tuft & Needle Mat...|       Furniture|          1|           15|         26|   N|                Y|Most painful matt...|This product was ...| 2015-08-31|\n",
            "|         US|   37722720|R3MTAYGQM25N63|B007J0E7WQ|     562508640|Target Marketing ...|       Furniture|          4|           58|         59|   N|                Y|Good little cabin...|Purchased this on...| 2015-08-31|\n",
            "|         US|   31278317| RJNDSWES5ISZ7|B00HTUOOBA|     995797488|Chrome Metal Bar ...|       Furniture|          5|           78|         79|   N|                Y|             AMAZING|this is a very be...| 2015-08-31|\n",
            "|         US|   21515203|R15R7STOZZP2A4|B002V1Q65Y|     320882925|Coaster Company P...|       Furniture|          5|           33|         34|   N|                Y|         Great deal!|Good quality bed....| 2015-08-31|\n",
            "|         US|   48672213|R33V5WV529NK8E|B00MULXWMU|     491669252|Modway Annabel Tw...|       Furniture|          4|           30|         32|   N|                Y|           Worth it!|Great quality for...| 2015-08-31|\n",
            "|         US|   50914859| RIR9ZI3L80P7P|B00T3MUB4Q|      76857765|WinkBeds - Mattre...|       Furniture|          3|           72|         76|   N|                N|Disappointed - re...|**** UPDATED 02-2...| 2015-08-31|\n",
            "|         US|    7691605|R10P6SDC1D6C3I|B00LZM5IOK|     420170495|Modway Lily Twin ...|       Furniture|          5|           23|         25|   N|                Y|Like it! My bed i...|Like it ! My bed ...| 2015-08-31|\n",
            "|         US|   46509642|R110G9UVLI2MLS|B00OKIPS0A|     415535727|Milton Greens Sta...|       Furniture|          5|           52|         55|   N|                Y|             Lovely!|For those living ...| 2015-08-31|\n",
            "|         US|   47359106|R1I4LN1WR3YVJX|B00NUS5D4C|     148579574|AmazonBasics 5-Sh...|       Furniture|          1|           31|         40|   N|                Y|Cheap and frustra...|Cheap product, on...| 2015-08-31|\n",
            "|         US|   23511203|R1B76MPCS05UX9|B00P7RWWM0|     259554464|Mega Motion Easy ...|       Furniture|          5|           19|         21|   N|                Y|Great chair, Don'...|Ok this chair is ...| 2015-08-31|\n",
            "|         US|    6407891|R17PJIKAZ3U6BG|B00DW7LB0G|     366981061|Simpli Home Lared...|       Furniture|          5|           21|         21|   N|                Y|I love this beaut...|We love this benc...| 2015-08-30|\n",
            "|         US|    8113934|R2T3TLCX42RWLY|B009V5YVT6|     598492986|AVE SIX Reflectio...|       Furniture|          5|           46|         48|   N|                Y|      Beyond happy!!|Honestly, a pictu...| 2015-08-30|\n",
            "+-----------+-----------+--------------+----------+--------------+--------------------+----------------+-----------+-------------+-----------+----+-----------------+--------------------+--------------------+-----------+\n",
            "only showing top 20 rows\n",
            "\n"
          ]
        }
      ],
      "source": [
        "totalvotes_df = df.filter('total_votes>=20')\n",
        "totalvotes_df.show()"
      ]
    },
    {
      "cell_type": "markdown",
      "metadata": {
        "id": "_WXnBMTOO5H_"
      },
      "source": [
        "### Filter the new DataFrame or table created above and create a new DataFrame or table to retrieve all the rows where the number of helpful_votes divided by total_votes is equal to or greater than 50%"
      ]
    },
    {
      "cell_type": "code",
      "execution_count": null,
      "metadata": {
        "colab": {
          "base_uri": "https://localhost:8080/"
        },
        "id": "388RDmZ3EwU4",
        "outputId": "3d84430e-c65b-4d6b-c122-b04797df7a47"
      },
      "outputs": [
        {
          "output_type": "stream",
          "name": "stdout",
          "text": [
            "+-----------+-----------+--------------+----------+--------------+--------------------+----------------+-----------+-------------+-----------+----+-----------------+--------------------+--------------------+-----------+\n",
            "|marketplace|customer_id|     review_id|product_id|product_parent|       product_title|product_category|star_rating|helpful_votes|total_votes|vine|verified_purchase|     review_headline|         review_body|review_date|\n",
            "+-----------+-----------+--------------+----------+--------------+--------------------+----------------+-----------+-------------+-----------+----+-----------------+--------------------+--------------------+-----------+\n",
            "|         US|   41681546| RL8D0KJ0J9L0O|B00BWC1X3S|     328960153|Zinus 14 Inch Eli...|       Furniture|          5|          152|        165|   N|                Y|A solid VICTORY f...|I've been looking...| 2015-08-31|\n",
            "|         US|   16806846|R1BEINAIQFBRJC|B007I81A60|      68465765|8\" Night Therapy ...|       Furniture|          5|           21|         23|   N|                Y|An Engineering Su...|A full size mattr...| 2015-08-31|\n",
            "|         US|   17820936|R2L59KIJH302P9|B007QULII0|     812343799|LexMod Stencil Di...|       Furniture|          4|           26|         26|   N|                Y|     Love this chair|Love this chair, ...| 2015-08-31|\n",
            "|         US|   50476494| RR99CPG695T0I|B013L4ZWWW|     124365349|Arctic Dreams 10\"...|       Furniture|          5|          215|        248|   N|                N| QUALITY* SLEEP!!!!!|I decided to get ...| 2015-08-31|\n",
            "|         US|   21846903|R1XQNKKUPCMWVO|B00IPN64CC|     867520220|Upholstered Platf...|       Furniture|          5|           43|         44|   N|                Y|Black Tufted Desi...|I have to admit t...| 2015-08-31|\n",
            "|         US|   36021042|R3JUXVCT1NSK2A|B003PSNAI8|     219454481|Fashion Bed Group...|       Furniture|          3|           25|         26|   N|                Y|Works but has odd...|Fully assembled i...| 2015-08-31|\n",
            "|         US|   15624624| RTCRZARYY4LXX|B00E97HPLW|     132456290|Flash Furniture M...|       Furniture|          5|           52|         54|   N|                Y|comfortable/easy ...|Everything I expe...| 2015-08-31|\n",
            "|         US|   13214979|R3OFB4P7Y8WR27|B00QBZ25R4|     637686095|Tuft & Needle Mat...|       Furniture|          1|           15|         26|   N|                Y|Most painful matt...|This product was ...| 2015-08-31|\n",
            "|         US|   37722720|R3MTAYGQM25N63|B007J0E7WQ|     562508640|Target Marketing ...|       Furniture|          4|           58|         59|   N|                Y|Good little cabin...|Purchased this on...| 2015-08-31|\n",
            "|         US|   31278317| RJNDSWES5ISZ7|B00HTUOOBA|     995797488|Chrome Metal Bar ...|       Furniture|          5|           78|         79|   N|                Y|             AMAZING|this is a very be...| 2015-08-31|\n",
            "|         US|   21515203|R15R7STOZZP2A4|B002V1Q65Y|     320882925|Coaster Company P...|       Furniture|          5|           33|         34|   N|                Y|         Great deal!|Good quality bed....| 2015-08-31|\n",
            "|         US|   48672213|R33V5WV529NK8E|B00MULXWMU|     491669252|Modway Annabel Tw...|       Furniture|          4|           30|         32|   N|                Y|           Worth it!|Great quality for...| 2015-08-31|\n",
            "|         US|   50914859| RIR9ZI3L80P7P|B00T3MUB4Q|      76857765|WinkBeds - Mattre...|       Furniture|          3|           72|         76|   N|                N|Disappointed - re...|**** UPDATED 02-2...| 2015-08-31|\n",
            "|         US|    7691605|R10P6SDC1D6C3I|B00LZM5IOK|     420170495|Modway Lily Twin ...|       Furniture|          5|           23|         25|   N|                Y|Like it! My bed i...|Like it ! My bed ...| 2015-08-31|\n",
            "|         US|   46509642|R110G9UVLI2MLS|B00OKIPS0A|     415535727|Milton Greens Sta...|       Furniture|          5|           52|         55|   N|                Y|             Lovely!|For those living ...| 2015-08-31|\n",
            "|         US|   47359106|R1I4LN1WR3YVJX|B00NUS5D4C|     148579574|AmazonBasics 5-Sh...|       Furniture|          1|           31|         40|   N|                Y|Cheap and frustra...|Cheap product, on...| 2015-08-31|\n",
            "|         US|   23511203|R1B76MPCS05UX9|B00P7RWWM0|     259554464|Mega Motion Easy ...|       Furniture|          5|           19|         21|   N|                Y|Great chair, Don'...|Ok this chair is ...| 2015-08-31|\n",
            "|         US|    6407891|R17PJIKAZ3U6BG|B00DW7LB0G|     366981061|Simpli Home Lared...|       Furniture|          5|           21|         21|   N|                Y|I love this beaut...|We love this benc...| 2015-08-30|\n",
            "|         US|    8113934|R2T3TLCX42RWLY|B009V5YVT6|     598492986|AVE SIX Reflectio...|       Furniture|          5|           46|         48|   N|                Y|      Beyond happy!!|Honestly, a pictu...| 2015-08-30|\n",
            "|         US|   48960668|R39YWJ09ZCPW7P|B00UXRSDF4|     949941628|2xhome - Black - ...|       Furniture|          5|           24|         28|   N|                Y|          Five Stars|Great chair great...| 2015-08-30|\n",
            "+-----------+-----------+--------------+----------+--------------+--------------------+----------------+-----------+-------------+-----------+----+-----------------+--------------------+--------------------+-----------+\n",
            "only showing top 20 rows\n",
            "\n"
          ]
        }
      ],
      "source": [
        "helpful_50_df = totalvotes_df.filter(\"helpful_votes/total_votes>=.50\")\n",
        "helpful_50_df.show()"
      ]
    },
    {
      "cell_type": "markdown",
      "source": [
        "### Filter the DataFrame or table created above, and create a new DataFrame or table that retrieves all the rows where a review was written as part of the Vine program (paid), vine == 'Y'."
      ],
      "metadata": {
        "id": "VAoUD-3jPtnJ"
      }
    },
    {
      "cell_type": "code",
      "execution_count": null,
      "metadata": {
        "colab": {
          "base_uri": "https://localhost:8080/"
        },
        "id": "MkqyCuNQY-9-",
        "outputId": "de7702cc-d1e0-476b-fa4e-d1480fbcf616"
      },
      "outputs": [
        {
          "output_type": "stream",
          "name": "stdout",
          "text": [
            "+-----------+-----------+--------------+----------+--------------+--------------------+----------------+-----------+-------------+-----------+----+-----------------+--------------------+--------------------+-----------+\n",
            "|marketplace|customer_id|     review_id|product_id|product_parent|       product_title|product_category|star_rating|helpful_votes|total_votes|vine|verified_purchase|     review_headline|         review_body|review_date|\n",
            "+-----------+-----------+--------------+----------+--------------+--------------------+----------------+-----------+-------------+-----------+----+-----------------+--------------------+--------------------+-----------+\n",
            "|         US|   35119071|R2BQOD1R0228FN|B00H2RSA88|     405483618|Sleep Innovations...|       Furniture|          3|           17|         26|   Y|                N|An okay product. ...|Three-stars is co...| 2015-08-27|\n",
            "|         US|   44737123| RC31RUPFOHBHQ|B0125QZ50G|     350975212|Zinus Viscolatex ...|       Furniture|          4|          102|        117|   Y|                N| Comfort and Support|I have not tried ...| 2015-08-24|\n",
            "|         US|   51369093| REN3N1WITLF1Y|B00S5EI4C4|     153136932|Brentwood Home S-...|       Furniture|          5|           33|         37|   Y|                N|       Pros and Cons|4.5 stars<br /><b...| 2015-08-20|\n",
            "|         US|   49598970| R71RZQ9UZVG47|B00H2RSA88|     405483618|Sleep Innovations...|       Furniture|          4|           38|         47|   Y|                N|Great memory foam...|This is a good me...| 2015-08-19|\n",
            "|         US|   50507621|R38NMQBH88HLM6|B00H2RSA88|     405483618|Sleep Innovations...|       Furniture|          4|           18|         24|   Y|                N|Firm......VERY fi...|Always wanted a m...| 2015-08-17|\n",
            "|         US|   44737123|R33FGX9EE3QVR6|B00K7G8M34|     291701473|Fashion Bed Group...|       Furniture|          4|           26|         26|   Y|                N|Solid, Smooth & Q...|This is our first...| 2015-08-08|\n",
            "|         US|   17957446|R1KIOIK6WEYE59|B00ZY8DOCY|     858354913|Harmony Ergonomic...|       Furniture|          3|           19|         20|   Y|                N|Great Idea, Disap...|When I saw this i...| 2015-07-19|\n",
            "|         US|   42483100|R25X9BMOB3FD0E|B00S5EI4C4|     153136932|Brentwood Home S-...|       Furniture|          4|           32|         37|   Y|                N|My 4th latex matt...|The liner is made...| 2015-07-19|\n",
            "|         US|   52464985|R3VCKFCX2377Q2|B00Y4BGT06|     383077572|Sleep Innovations...|       Furniture|          4|           95|        101|   Y|                N|A Nest For One or...|This is a two pie...| 2015-07-04|\n",
            "|         US|   46266548|R1E0OUG63HMSM4|B00Y4BGT06|     383077572|Sleep Innovations...|       Furniture|          3|           58|         61|   Y|                N|A thoughtful prod...|We're great fans ...| 2015-07-02|\n",
            "|         US|   51923814|R1V45RUW5ZB3LS|B00WO0S5EM|     720135802|Serta Pearce Firm...|       Furniture|          4|           19|         21|   Y|                N|Reluctant Memory ...|I was impressed w...| 2015-07-01|\n",
            "|         US|   52862683| RTF6DSZ1UTLHH|B00LJ7D280|     576833455|Classic Brands Gr...|       Furniture|          5|          401|        418|   Y|                N|So comfortable, a...|[[VIDEOID:2ff2135...| 2015-06-23|\n",
            "|         US|   51903105|R1CZV9N2YLJAP7|B00LJ7D280|     576833455|Classic Brands Gr...|       Furniture|          5|          123|        136|   Y|                Y|I am loving this ...|UPDATE: As I wrot...| 2015-06-21|\n",
            "|         US|   35575415|R1OF3X9W99Y300|B00LJ7D280|     576833455|Classic Brands Gr...|       Furniture|          4|           27|         35|   Y|                N|Soft-Med firmness...|[[VIDEOID:dcb995d...| 2015-06-20|\n",
            "|         US|   51956455|R1JYKEH4CQVJ1B|B00LJ7D280|     576833455|Classic Brands Gr...|       Furniture|          5|           22|         23|   Y|                N|Sorry for writing...|1) The Competitio...| 2015-06-18|\n",
            "|         US|   37982975|R1093XVB0H2QOL|B00Y4BGT06|     383077572|Sleep Innovations...|       Furniture|          4|           51|         54|   Y|                N|Sleeping on a clo...|I swear by foam m...| 2015-06-12|\n",
            "|         US|   22656237|R3Q81B31F1CPGH|B00P21TAIK|     298322939|Chill Sack Bean B...|       Furniture|          3|           50|         55|   Y|                N|             Massive|If there's only o...| 2015-06-02|\n",
            "|         US|   34160155|R2P6XIZZPJF7AE|B00P21TAIK|     298322939|Chill Sack Bean B...|       Furniture|          5|           46|         51|   Y|                N|Humans or cats ca...|Chill Bag is the ...| 2015-05-28|\n",
            "|         US|   33167968|R3N5S06UW5MKFE|B00UVAJUBO|     584650655|Classic Brands 10...|       Furniture|          3|          907|        925|   Y|                N|3 inches of real ...|If I have $400 to...| 2015-05-23|\n",
            "|         US|   52846213|R3J9EJCVKFCRWO|B00UA8TD6O|      78126929|Safavieh Tranquil...|       Furniture|          5|           18|         20|   Y|                N|Quality, Comfort ...|Whoever thought t...| 2015-05-20|\n",
            "+-----------+-----------+--------------+----------+--------------+--------------------+----------------+-----------+-------------+-----------+----+-----------------+--------------------+--------------------+-----------+\n",
            "only showing top 20 rows\n",
            "\n"
          ]
        }
      ],
      "source": [
        "vine_review_df = helpful_50_df.filter(helpful_50_df['vine']=='Y')\n",
        "vine_review_df.show()"
      ]
    },
    {
      "cell_type": "markdown",
      "source": [
        "### Retrieve all the rows where the review was not part of the Vine program (unpaid), vine == 'N'."
      ],
      "metadata": {
        "id": "vEIgQEmsQcsC"
      }
    },
    {
      "cell_type": "code",
      "source": [
        "no_vine_review_df = helpful_50_df.filter(helpful_50_df['vine']=='N')\n",
        "no_vine_review_df.show()"
      ],
      "metadata": {
        "colab": {
          "base_uri": "https://localhost:8080/"
        },
        "id": "zupT6S8QQpsp",
        "outputId": "e01a003b-978f-4ed2-b1c4-6f67c7407926"
      },
      "execution_count": null,
      "outputs": [
        {
          "output_type": "stream",
          "name": "stdout",
          "text": [
            "+-----------+-----------+--------------+----------+--------------+--------------------+----------------+-----------+-------------+-----------+----+-----------------+--------------------+--------------------+-----------+\n",
            "|marketplace|customer_id|     review_id|product_id|product_parent|       product_title|product_category|star_rating|helpful_votes|total_votes|vine|verified_purchase|     review_headline|         review_body|review_date|\n",
            "+-----------+-----------+--------------+----------+--------------+--------------------+----------------+-----------+-------------+-----------+----+-----------------+--------------------+--------------------+-----------+\n",
            "|         US|   41681546| RL8D0KJ0J9L0O|B00BWC1X3S|     328960153|Zinus 14 Inch Eli...|       Furniture|          5|          152|        165|   N|                Y|A solid VICTORY f...|I've been looking...| 2015-08-31|\n",
            "|         US|   16806846|R1BEINAIQFBRJC|B007I81A60|      68465765|8\" Night Therapy ...|       Furniture|          5|           21|         23|   N|                Y|An Engineering Su...|A full size mattr...| 2015-08-31|\n",
            "|         US|   17820936|R2L59KIJH302P9|B007QULII0|     812343799|LexMod Stencil Di...|       Furniture|          4|           26|         26|   N|                Y|     Love this chair|Love this chair, ...| 2015-08-31|\n",
            "|         US|   50476494| RR99CPG695T0I|B013L4ZWWW|     124365349|Arctic Dreams 10\"...|       Furniture|          5|          215|        248|   N|                N| QUALITY* SLEEP!!!!!|I decided to get ...| 2015-08-31|\n",
            "|         US|   21846903|R1XQNKKUPCMWVO|B00IPN64CC|     867520220|Upholstered Platf...|       Furniture|          5|           43|         44|   N|                Y|Black Tufted Desi...|I have to admit t...| 2015-08-31|\n",
            "|         US|   36021042|R3JUXVCT1NSK2A|B003PSNAI8|     219454481|Fashion Bed Group...|       Furniture|          3|           25|         26|   N|                Y|Works but has odd...|Fully assembled i...| 2015-08-31|\n",
            "|         US|   15624624| RTCRZARYY4LXX|B00E97HPLW|     132456290|Flash Furniture M...|       Furniture|          5|           52|         54|   N|                Y|comfortable/easy ...|Everything I expe...| 2015-08-31|\n",
            "|         US|   13214979|R3OFB4P7Y8WR27|B00QBZ25R4|     637686095|Tuft & Needle Mat...|       Furniture|          1|           15|         26|   N|                Y|Most painful matt...|This product was ...| 2015-08-31|\n",
            "|         US|   37722720|R3MTAYGQM25N63|B007J0E7WQ|     562508640|Target Marketing ...|       Furniture|          4|           58|         59|   N|                Y|Good little cabin...|Purchased this on...| 2015-08-31|\n",
            "|         US|   31278317| RJNDSWES5ISZ7|B00HTUOOBA|     995797488|Chrome Metal Bar ...|       Furniture|          5|           78|         79|   N|                Y|             AMAZING|this is a very be...| 2015-08-31|\n",
            "|         US|   21515203|R15R7STOZZP2A4|B002V1Q65Y|     320882925|Coaster Company P...|       Furniture|          5|           33|         34|   N|                Y|         Great deal!|Good quality bed....| 2015-08-31|\n",
            "|         US|   48672213|R33V5WV529NK8E|B00MULXWMU|     491669252|Modway Annabel Tw...|       Furniture|          4|           30|         32|   N|                Y|           Worth it!|Great quality for...| 2015-08-31|\n",
            "|         US|   50914859| RIR9ZI3L80P7P|B00T3MUB4Q|      76857765|WinkBeds - Mattre...|       Furniture|          3|           72|         76|   N|                N|Disappointed - re...|**** UPDATED 02-2...| 2015-08-31|\n",
            "|         US|    7691605|R10P6SDC1D6C3I|B00LZM5IOK|     420170495|Modway Lily Twin ...|       Furniture|          5|           23|         25|   N|                Y|Like it! My bed i...|Like it ! My bed ...| 2015-08-31|\n",
            "|         US|   46509642|R110G9UVLI2MLS|B00OKIPS0A|     415535727|Milton Greens Sta...|       Furniture|          5|           52|         55|   N|                Y|             Lovely!|For those living ...| 2015-08-31|\n",
            "|         US|   47359106|R1I4LN1WR3YVJX|B00NUS5D4C|     148579574|AmazonBasics 5-Sh...|       Furniture|          1|           31|         40|   N|                Y|Cheap and frustra...|Cheap product, on...| 2015-08-31|\n",
            "|         US|   23511203|R1B76MPCS05UX9|B00P7RWWM0|     259554464|Mega Motion Easy ...|       Furniture|          5|           19|         21|   N|                Y|Great chair, Don'...|Ok this chair is ...| 2015-08-31|\n",
            "|         US|    6407891|R17PJIKAZ3U6BG|B00DW7LB0G|     366981061|Simpli Home Lared...|       Furniture|          5|           21|         21|   N|                Y|I love this beaut...|We love this benc...| 2015-08-30|\n",
            "|         US|    8113934|R2T3TLCX42RWLY|B009V5YVT6|     598492986|AVE SIX Reflectio...|       Furniture|          5|           46|         48|   N|                Y|      Beyond happy!!|Honestly, a pictu...| 2015-08-30|\n",
            "|         US|   48960668|R39YWJ09ZCPW7P|B00UXRSDF4|     949941628|2xhome - Black - ...|       Furniture|          5|           24|         28|   N|                Y|          Five Stars|Great chair great...| 2015-08-30|\n",
            "+-----------+-----------+--------------+----------+--------------+--------------------+----------------+-----------+-------------+-----------+----+-----------------+--------------------+--------------------+-----------+\n",
            "only showing top 20 rows\n",
            "\n"
          ]
        }
      ]
    },
    {
      "cell_type": "markdown",
      "metadata": {
        "id": "jITZhLkmY--J"
      },
      "source": [
        "### Determine the total number of reviews, the number of 5-star reviews, and the percentage of 5-star reviews for the two types of review (paid vs unpaid). "
      ]
    },
    {
      "cell_type": "code",
      "source": [
        "# The total number of reviews\n",
        "from pyspark.sql.functions import count\n",
        "total_reviews_count = df.count()\n",
        "print('Total number of reviews for furniture: %f' %total_reviews_count)"
      ],
      "metadata": {
        "colab": {
          "base_uri": "https://localhost:8080/"
        },
        "id": "e5TKN3tZWsV5",
        "outputId": "72245726-68d5-4b6a-c6e9-ebc51e5a6c17"
      },
      "execution_count": null,
      "outputs": [
        {
          "output_type": "stream",
          "name": "stdout",
          "text": [
            "Total number of reviews for furniture: 792113.000000\n"
          ]
        }
      ]
    },
    {
      "cell_type": "code",
      "source": [
        "# The number of 5-star reviews\n",
        "star_5_df = df.filter(df['star_rating'] == '5')\n",
        "star_5_df.show()\n",
        "\n",
        "star_5_count = star_5_df.count()\n",
        "print('The number of 5-star furniture reviews: %f' %star_5_count)"
      ],
      "metadata": {
        "colab": {
          "base_uri": "https://localhost:8080/"
        },
        "id": "kmdPKF1AXI2V",
        "outputId": "a2a56bbd-61d4-4c5d-d120-47fa075e4be2"
      },
      "execution_count": null,
      "outputs": [
        {
          "output_type": "stream",
          "name": "stdout",
          "text": [
            "+-----------+-----------+--------------+----------+--------------+--------------------+----------------+-----------+-------------+-----------+----+-----------------+--------------------+--------------------+-----------+\n",
            "|marketplace|customer_id|     review_id|product_id|product_parent|       product_title|product_category|star_rating|helpful_votes|total_votes|vine|verified_purchase|     review_headline|         review_body|review_date|\n",
            "+-----------+-----------+--------------+----------+--------------+--------------------+----------------+-----------+-------------+-----------+----+-----------------+--------------------+--------------------+-----------+\n",
            "|         US|   34731776|R16LGVMFKIUT0G|B0042TNMMS|     205864445|Dorel Home Produc...|       Furniture|          5|            0|          0|   N|                Y|          Five Stars|          Great item| 2015-08-31|\n",
            "|         US|    1272331|R1AIMEEPYHMOE4|B0030MPBZ4|     124663823|Bathroom Vanity T...|       Furniture|          5|            1|          1|   N|                Y|          Five Stars|Perfect fit for m...| 2015-08-31|\n",
            "|         US|   18311821| RLB33HJBXHZHU|B00AVUQQGQ|     574537906|Serta Bonded Leat...|       Furniture|          5|            0|          0|   N|                Y|          Five Stars|Love this product...| 2015-08-31|\n",
            "|         US|   42943632|R1VGTZ94DBAD6A|B00CFY20GQ|     407473883|Prepac Shoe Stora...|       Furniture|          5|            2|          2|   N|                Y|   I love this bench|I love this bench...| 2015-08-31|\n",
            "|         US|   43157304|R168KF82ICSOHD|B00FKC48QA|     435120460|HomCom PU Leather...|       Furniture|          5|            0|          0|   N|                Y|Great storage cap...|Have had this for...| 2015-08-31|\n",
            "|         US|   51918480|R20DIYIJ0OCMOG|B00N9IAL9K|     356495985|  Folding Step Stool|       Furniture|          5|            0|          0|   N|                Y|This is the best ...|This is the best ...| 2015-08-31|\n",
            "|         US|   14522766| RD46RNVOHNZSC|B001T4XU1C|     243050228|Ace Bayou Adult V...|       Furniture|          5|            0|          0|   N|                Y|    great for price!|    my son loves it!| 2015-08-31|\n",
            "|         US|   43054112|R2JDOCETTM3AXS|B002HRFLBC|      93574483|4D Concepts Audio...|       Furniture|          5|            0|          0|   N|                Y|          Five Stars|       Great product| 2015-08-31|\n",
            "|         US|   26622950|R33YMW36IDZ6LE|B006MISZOC|     941823468|Zinus SC-SBBK-14N...|       Furniture|          5|            0|          0|   N|                Y|             perfect|bought with sleep...| 2015-08-31|\n",
            "|         US|   17988940|R30ZGGUHZ04C1S|B008BMGABC|     460567746|Poundex Marble Di...|       Furniture|          5|            1|          1|   N|                Y|   Very satisfied!!!|Delivery was on t...| 2015-08-31|\n",
            "|         US|   18444952| RS2EZU76IK2BT|B00CO2VH5Y|     829613894|Safavieh Lyndhurs...|       Furniture|          5|            0|          0|   N|                Y|soft and great fo...|Exactly as pictur...| 2015-08-31|\n",
            "|         US|   16937084|R1GJC1BP028XO9|B00LI4RJQ0|     816478187|Sauder Boone Moun...|       Furniture|          5|            2|          3|   N|                Y|        Great table.|Beautiful table. ...| 2015-08-31|\n",
            "|         US|    2415090|R2F5WW7WNO5RRG|B001TJYPJ8|     854989315|Sleep Revolution ...|       Furniture|          5|            0|          0|   N|                Y|          Five Stars|Comfortable and e...| 2015-08-31|\n",
            "|         US|   48285966|R3UDJKVWQCFIC9|B000TMHX9A|     814079288|Flash Furniture V...|       Furniture|          5|            0|          0|   N|                Y|Very comfortable....|As advertised. Ve...| 2015-08-31|\n",
            "|         US|   33228559|R1MLGVJH3J5W6N|B005MZBB2O|     523675277|Amelia Floral Mut...|       Furniture|          5|            0|          0|   N|                Y|       Wonderful rug|Very nice rug for...| 2015-08-31|\n",
            "|         US|   11600823|R38JYICG7ESAZP|B00JITHL9C|     403803724|Classic Brands Lo...|       Furniture|          5|            3|          3|   N|                Y|Good USA made pro...|Product was as de...| 2015-08-31|\n",
            "|         US|   12546512|R2OM7LJ7CY084O|B007EEG7M0|     336731383|Range Kleen SS2 D...|       Furniture|          5|            0|          1|   N|                Y|          Five Stars|I love these stoo...| 2015-08-31|\n",
            "|         US|    5395378|R1ZG4UWGK123C3|B004LQ1RJ2|     999119538|Signature Sleep C...|       Furniture|          5|            0|          0|   N|                Y|          Five Stars|     so comfortable!| 2015-08-31|\n",
            "|         US|   34857314|R1ZOEOSEMAITN6|B000RPVKPC|     269111919|Coaster Home Furn...|       Furniture|          5|            0|          0|   N|                Y|          Five Stars|Love it!! Easy as...| 2015-08-31|\n",
            "|         US|   26511421|R38HR07J1KN5TE|B009QDA1LA|     119886213|Universal Bed Sla...|       Furniture|          5|            0|          0|   N|                Y|         Very sturdy|These rescued  my...| 2015-08-31|\n",
            "+-----------+-----------+--------------+----------+--------------+--------------------+----------------+-----------+-------------+-----------+----+-----------------+--------------------+--------------------+-----------+\n",
            "only showing top 20 rows\n",
            "\n",
            "The number of 5-star furniture reviews: 447716.000000\n"
          ]
        }
      ]
    },
    {
      "cell_type": "code",
      "execution_count": null,
      "metadata": {
        "id": "Exuo6ebUsCqW",
        "colab": {
          "base_uri": "https://localhost:8080/"
        },
        "outputId": "7a40572e-b13a-49d5-bee7-a41d9b0abc18"
      },
      "outputs": [
        {
          "output_type": "stream",
          "name": "stdout",
          "text": [
            "Total number of paid and helpful furniture reviews: 136.000000\n",
            "Total number of non-paid and helpful furniture reviews: 18019.000000\n"
          ]
        }
      ],
      "source": [
        "# Total number of reviews for each data (vine/paid & no-vine/unpaid)\n",
        "vine_review_count = vine_review_df.count()\n",
        "print(\"Total number of paid and helpful furniture reviews: %f\" %vine_review_count)\n",
        "\n",
        "no_vine_review_count = no_vine_review_df.count()\n",
        "print('Total number of non-paid and helpful furniture reviews: %f' %no_vine_review_count)"
      ]
    },
    {
      "cell_type": "code",
      "source": [
        "# Number of 5-star Reviews for vine/paid & no-vine/unpaid dataframes\n",
        "star5_vine_df = vine_review_df.filter(vine_review_df['star_rating']=='5')\n",
        "print('Total number of 5-star paid and helpful furniture reviews: %f' %star5_vine_df.count())\n",
        "\n",
        "star5_no_vine_df = no_vine_review_df.filter(no_vine_review_df['star_rating']=='5')\n",
        "print('Total number of 5-star unpaid and helpful furniture reviews: %f' %star5_no_vine_df.count())"
      ],
      "metadata": {
        "colab": {
          "base_uri": "https://localhost:8080/"
        },
        "id": "Fe3-8x7iTIgM",
        "outputId": "8fbeea76-581d-4307-836a-6caaec583957"
      },
      "execution_count": null,
      "outputs": [
        {
          "output_type": "stream",
          "name": "stdout",
          "text": [
            "Total number of 5-star paid and helpful furniture reviews: 74.000000\n",
            "Total number of 5-star unpaid and helpful furniture reviews: 8482.000000\n"
          ]
        }
      ]
    },
    {
      "cell_type": "code",
      "source": [
        "# Percentage of 5-star reviews for vine/paid & no-vine/unpaid dataframes\n",
        "star5_vine_percentage = (star5_vine_df.count()/vine_review_count) * 100\n",
        "print('Percentage of 5-star paid and helpful reviews for the furniture dataset: %f' %star5_vine_percentage)\n",
        "\n",
        "star5_no_vine_percentage = (star5_no_vine_df.count()/no_vine_review_count) * 100\n",
        "print('Percentage of 5-star unpaid and helpful reviews for the furniture dataset: %f' %star5_no_vine_percentage)"
      ],
      "metadata": {
        "colab": {
          "base_uri": "https://localhost:8080/"
        },
        "id": "0jtsp_cQUWh1",
        "outputId": "b3db1e2e-9047-4c92-875d-39f692252db6"
      },
      "execution_count": null,
      "outputs": [
        {
          "output_type": "stream",
          "name": "stdout",
          "text": [
            "Percentage of 5-star paid and helpful reviews for the furniture dataset: 54.411765\n",
            "Percentage of 5-star unpaid and helpful reviews for the furniture dataset: 47.072535\n"
          ]
        }
      ]
    },
    {
      "cell_type": "code",
      "source": [
        ""
      ],
      "metadata": {
        "id": "8e2teEJ6VZIY"
      },
      "execution_count": null,
      "outputs": []
    }
  ],
  "metadata": {
    "colab": {
      "name": "Vine_Review_Analysis.ipynb",
      "provenance": [],
      "collapsed_sections": []
    },
    "kernelspec": {
      "display_name": "Python 3",
      "name": "python3"
    },
    "language_info": {
      "name": "python"
    },
    "nteract": {
      "version": "0.12.3"
    }
  },
  "nbformat": 4,
  "nbformat_minor": 0
}